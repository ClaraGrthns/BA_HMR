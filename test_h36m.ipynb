{
 "cells": [
  {
   "cell_type": "code",
   "execution_count": 2,
   "metadata": {},
   "outputs": [],
   "source": [
    "from modules.smpl_model._smpl import SMPL as SMPL_metro\n",
    "from modules.utils.image_utils import plot_tensor, to_tensor, visualize_mesh\n",
    "from modules.smpl_model.config_smpl import *\n",
    "from modules.smpl_model.smpl_pose2mesh import SMPL\n",
    "\n",
    "from modules.datasets.dataset_3DPW import get_data as get_data_3dpw\n",
    "from modules.datasets.dataset_H36M import get_data as get_data_h36m\n",
    "from modules.datasets.FullDataset import get_full_train_val_data\n",
    "from modules.utils.data_utils_3dpw import get_chunks_img_paths_list_seq\n",
    "\n",
    "from modules.smpl_model.smpl_pose2mesh import SMPL"
   ]
  },
  {
   "cell_type": "code",
   "execution_count": 3,
   "metadata": {},
   "outputs": [],
   "source": [
    "import torch\n",
    "import os.path as osp\n",
    "import json\n",
    "import copy\n",
    "import numpy as np\n",
    "import os\n",
    "import pickle as pkl\n",
    "from PIL import Image\n",
    "import torch\n",
    "import random"
   ]
  },
  {
   "cell_type": "markdown",
   "metadata": {},
   "source": [
    "## SMPL Model Pose2Mesh"
   ]
  },
  {
   "cell_type": "code",
   "execution_count": 4,
   "metadata": {},
   "outputs": [],
   "source": [
    "smpl = SMPL()\n",
    "smpl_metro = SMPL_metro()\n",
    "\n",
    "# Adapt Regressor for 10 PCs\n",
    "smpl.layer['neutral'].th_shapedirs= smpl.layer['neutral'].th_shapedirs[:,:,:10]\n",
    "smpl.layer['neutral'].th_betas= smpl.layer['neutral'].th_betas[:,:10]"
   ]
  },
  {
   "cell_type": "markdown",
   "metadata": {},
   "source": [
    "## Dataset H36M"
   ]
  },
  {
   "cell_type": "code",
   "execution_count": 5,
   "metadata": {},
   "outputs": [],
   "source": [
    "datah36m = get_data_h36m(data_path='../H36M',\n",
    "                        subject_list = [11],\n",
    "                        img_size=224,\n",
    "                        load_datalist='../H36M/data_pickle/datalist_h36m_thr25_11to11subj.pickle', \n",
    "                        load_from_zarr=['../H36M/img_zarr/imgs_h36m_resnet_thr25_11to11subj.zarr'],\n",
    "                        mask=True,\n",
    "                        smpl=smpl.layer['neutral'],\n",
    "                        backgrounds = None,\n",
    "                        store_images=False)"
   ]
  },
  {
   "cell_type": "code",
   "execution_count": 6,
   "metadata": {},
   "outputs": [],
   "source": [
    "loader_trn = torch.utils.data.DataLoader(\n",
    "        dataset=datah36m,\n",
    "        batch_size=1,\n",
    "        shuffle=True,\n",
    "    )"
   ]
  },
  {
   "cell_type": "code",
   "execution_count": 5,
   "metadata": {},
   "outputs": [],
   "source": [
    "dat = datah36m[0]"
   ]
  },
  {
   "cell_type": "code",
   "execution_count": 6,
   "metadata": {},
   "outputs": [],
   "source": [
    "img = dat['img']\n",
    "img_path= dat['img_path']\n",
    "verts = dat['vertices']\n",
    "cam_pose =dat['cam_pose']\n",
    "cam_intr = dat['cam_intr']\n",
    "trans = dat['trans']"
   ]
  },
  {
   "cell_type": "code",
   "execution_count": 7,
   "metadata": {},
   "outputs": [],
   "source": [
    "orig_img = np.array(Image.open(img_path))\n",
    "orig_img = to_tensor(orig_img)"
   ]
  },
  {
   "cell_type": "code",
   "execution_count": 8,
   "metadata": {},
   "outputs": [
    {
     "ename": "NameError",
     "evalue": "name 'Renderer' is not defined",
     "output_type": "error",
     "traceback": [
      "\u001b[0;31m---------------------------------------------------------------------------\u001b[0m",
      "\u001b[0;31mNameError\u001b[0m                                 Traceback (most recent call last)",
      "\u001b[0;32m<ipython-input-8-a7e1e8bc5624>\u001b[0m in \u001b[0;36m<module>\u001b[0;34m\u001b[0m\n\u001b[0;32m----> 1\u001b[0;31m \u001b[0mrend_img\u001b[0m \u001b[0;34m=\u001b[0m \u001b[0mvisualize_mesh\u001b[0m\u001b[0;34m(\u001b[0m\u001b[0morig_img\u001b[0m\u001b[0;34m,\u001b[0m \u001b[0msmpl\u001b[0m\u001b[0;34m=\u001b[0m\u001b[0msmpl_metro\u001b[0m\u001b[0;34m,\u001b[0m \u001b[0mcam_intr\u001b[0m\u001b[0;34m=\u001b[0m\u001b[0mcam_intr\u001b[0m\u001b[0;34m,\u001b[0m \u001b[0mvertices\u001b[0m\u001b[0;34m=\u001b[0m\u001b[0;34m(\u001b[0m\u001b[0mverts\u001b[0m\u001b[0;34m+\u001b[0m\u001b[0mtrans\u001b[0m\u001b[0;34m)\u001b[0m\u001b[0;34m[\u001b[0m\u001b[0;32mNone\u001b[0m\u001b[0;34m]\u001b[0m\u001b[0;34m)\u001b[0m\u001b[0;34m\u001b[0m\u001b[0;34m\u001b[0m\u001b[0m\n\u001b[0m\u001b[1;32m      2\u001b[0m \u001b[0mplot_tensor\u001b[0m\u001b[0;34m(\u001b[0m\u001b[0mrend_img\u001b[0m\u001b[0;34m)\u001b[0m\u001b[0;34m\u001b[0m\u001b[0;34m\u001b[0m\u001b[0m\n",
      "\u001b[0;32m~/Desktop/MeineProjekte/HMR_3DWP/modules/utils/image_utils.py\u001b[0m in \u001b[0;36mvisualize_mesh\u001b[0;34m(img, cam_intr, smpl, beta, pose, trans, vertices)\u001b[0m\n\u001b[1;32m    113\u001b[0m     \u001b[0mcam_center\u001b[0m \u001b[0;34m=\u001b[0m \u001b[0mcam_intr\u001b[0m\u001b[0;34m[\u001b[0m\u001b[0;36m0\u001b[0m\u001b[0;34m:\u001b[0m\u001b[0;36m2\u001b[0m\u001b[0;34m,\u001b[0m\u001b[0;36m2\u001b[0m\u001b[0;34m]\u001b[0m\u001b[0;34m\u001b[0m\u001b[0;34m\u001b[0m\u001b[0m\n\u001b[1;32m    114\u001b[0m     \u001b[0;31m## Visualize Mesh\u001b[0m\u001b[0;34m\u001b[0m\u001b[0;34m\u001b[0m\u001b[0;34m\u001b[0m\u001b[0m\n\u001b[0;32m--> 115\u001b[0;31m     \u001b[0mrenderer\u001b[0m \u001b[0;34m=\u001b[0m \u001b[0mRenderer\u001b[0m\u001b[0;34m(\u001b[0m\u001b[0mfaces\u001b[0m\u001b[0;34m=\u001b[0m\u001b[0mfaces\u001b[0m\u001b[0;34m)\u001b[0m\u001b[0;34m\u001b[0m\u001b[0;34m\u001b[0m\u001b[0m\n\u001b[0m\u001b[1;32m    116\u001b[0m     \u001b[0mcolor\u001b[0m\u001b[0;34m=\u001b[0m \u001b[0;34m'pink'\u001b[0m\u001b[0;34m\u001b[0m\u001b[0;34m\u001b[0m\u001b[0m\n\u001b[1;32m    117\u001b[0m     \u001b[0mfocal_length\u001b[0m \u001b[0;34m=\u001b[0m \u001b[0;36m1000\u001b[0m\u001b[0;34m\u001b[0m\u001b[0;34m\u001b[0m\u001b[0m\n",
      "\u001b[0;31mNameError\u001b[0m: name 'Renderer' is not defined"
     ]
    }
   ],
   "source": [
    "rend_img = visualize_mesh(orig_img, smpl=smpl_metro, cam_intr=cam_intr, vertices=(verts+trans)[None])\n",
    "plot_tensor(rend_img)"
   ]
  },
  {
   "cell_type": "code",
   "execution_count": 43,
   "metadata": {},
   "outputs": [
    {
     "name": "stderr",
     "output_type": "stream",
     "text": [
      "Clipping input data to the valid range for imshow with RGB data ([0..1] for floats or [0..255] for integers).\n"
     ]
    },
    {
     "data": {
      "image/png": "[encoded data removed]",
      "text/plain": [
       "<Figure size 900x1600 with 1 Axes>"
      ]
     },
     "metadata": {},
     "output_type": "display_data"
    }
   ],
   "source": [
    "plot_tensor(img)"
   ]
  },
  {
   "cell_type": "markdown",
   "metadata": {},
   "source": [
    "## Full Dataset"
   ]
  },
  {
   "cell_type": "code",
   "execution_count": 9,
   "metadata": {},
   "outputs": [],
   "source": [
    "from modules.datasets.FullDataset import get_full_train_val_data"
   ]
  },
  {
   "cell_type": "markdown",
   "metadata": {},
   "source": [
    "### Chunks "
   ]
  },
  {
   "cell_type": "code",
   "execution_count": 13,
   "metadata": {},
   "outputs": [],
   "source": [
    "import pickle as pkl\n",
    "\n",
    "from modules.utils.image_utils import to_tensor, transform, transform_visualize, crop_box\n",
    "\n",
    "from modules.datasets.dataset_seq_3DPW import SequenceWise3DPW\n",
    "from modules.datasets.dataset_seq_H36M import SequenceWiseH36M\n",
    "from modules.datasets.FullDataset import get_full_seq_train_val_data"
   ]
  },
  {
   "cell_type": "code",
   "execution_count": 58,
   "metadata": {},
   "outputs": [],
   "source": [
    "data_h36m = SequenceWiseH36M(\n",
    "            data_path='../H36M',\n",
    "            subject_list=[9,11],\n",
    "            smpl=smpl.layer['neutral'],\n",
    "            load_from_zarr=None,\n",
    "            load_seq_datalist='/Users/clara/Desktop/MeineProjekte/H36M/data_pickle/seq_datalist_h36m_thr25_9to11subj.pickle',\n",
    "            load_datalist=None,\n",
    "            len_chunks=8,\n",
    "            img_size=224,\n",
    "            mask= False,\n",
    "            fitting_thr=25,\n",
    "            store_images=False,\n",
    "            backgrounds=None,\n",
    "            )"
   ]
  },
  {
   "cell_type": "code",
   "execution_count": 59,
   "metadata": {},
   "outputs": [],
   "source": [
    "data = data_h36m[1]"
   ]
  },
  {
   "cell_type": "code",
   "execution_count": 68,
   "metadata": {},
   "outputs": [],
   "source": [
    "data_3dpw = SequenceWise3DPW(data_path='../3DPW',\n",
    "        split='train',\n",
    "        num_required_keypoints=8,\n",
    "        smpl=smpl.layer['neutral'],\n",
    "        len_chunks=8,\n",
    "        store_sequences=True,\n",
    "        store_images=False,\n",
    "        load_from_zarr='/Users/clara/Desktop/MeineProjekte/3DPW/img_zarr/imgs_3dpw_train.zarr',\n",
    "        img_size=224,\n",
    "        load_chunks_seq='/Users/clara/Desktop/MeineProjekte/3DPW/data_pickle/img_seqs_list_paths_seq/img_seqs_list_paths_seq_train_min8_kps.pickle',\n",
    "    )"
   ]
  },
  {
   "cell_type": "code",
   "execution_count": null,
   "metadata": {},
   "outputs": [],
   "source": [
    "data = data_3dpw[0]"
   ]
  },
  {
   "cell_type": "code",
   "execution_count": 14,
   "metadata": {},
   "outputs": [
    {
     "name": "stdout",
     "output_type": "stream",
     "text": [
      "initialize smpl model\n",
      "get 3dpw train data\n",
      "get 3dpw validation data\n",
      "get h36m train data\n",
      "get h36m validation data\n",
      "length train data: 3dpw: 2828, h36m: 9148, total: 11976\n",
      "length validation data: 3dpw: 1294, h36m: 9148, total: 10442\n"
     ]
    }
   ],
   "source": [
    "full_data = get_full_seq_train_val_data(\n",
    "        dataset='full',\n",
    "        data_path_3dpw='../3DPW',\n",
    "        len_chunks=8,\n",
    "        num_required_keypoints = 8,\n",
    "        store_sequences=True,\n",
    "        store_images_3dpw=True,\n",
    "        load_from_zarr_3dpw_trn=None,\n",
    "        load_from_zarr_3dpw_val=None,\n",
    "        img_size=224,\n",
    "        load_chunks_seq_trn='/Users/clara/Desktop/MeineProjekte/3DPW/data_pickle/img_seqs_list_paths_seq/img_seqs_list_paths_seq_train_min8_kps.pickle',\n",
    "        load_chunks_seq_val='/Users/clara/Desktop/MeineProjekte/3DPW/data_pickle/img_seqs_list_paths_seq/img_seqs_list_paths_seq_validation_min8_kps.pickle',\n",
    "        data_path_h36m='../H36M',\n",
    "        store_images_h36m=False,\n",
    "        load_from_zarr_h36m_trn=None,\n",
    "        load_from_zarr_h36m_val=None,\n",
    "        load_seq_datalist_trn='/Users/clara/Desktop/MeineProjekte/H36M/data_pickle/seq_datalist_h36m_thr25_9to11subj.pickle',\n",
    "        load_seq_datalist_val='/Users/clara/Desktop/MeineProjekte/H36M/data_pickle/seq_datalist_h36m_thr25_9to11subj.pickle',\n",
    "        backgrounds=None,\n",
    "        mask=True,\n",
    "        val_on_h36m=True,\n",
    "        subject_list_trn=[9,11],\n",
    "        subject_list_val=[9,11],\n",
    "        fitting_thr=25,\n",
    "    )"
   ]
  },
  {
   "cell_type": "code",
   "execution_count": 15,
   "metadata": {},
   "outputs": [],
   "source": [
    "train_data = full_data[0]\n",
    "val_data= full_data[1]"
   ]
  },
  {
   "cell_type": "code",
   "execution_count": 8,
   "metadata": {},
   "outputs": [
    {
     "data": {
      "text/plain": [
       "dict_keys(['img_paths', 'imgs', 'betas', 'poses', 'trans', 'vertices', 'cam_pose', 'cam_intr'])"
      ]
     },
     "execution_count": 8,
     "metadata": {},
     "output_type": "execute_result"
    }
   ],
   "source": [
    "data_loader = torch.utils.data.DataLoader(dataset=data.set_chunks(), \n",
    "                                        batch_size=batch_size_val, \n",
    "                                        shuffle=False,)"
   ]
  },
  {
   "cell_type": "code",
   "execution_count": 12,
   "metadata": {},
   "outputs": [
    {
     "data": {
      "text/plain": [
       "(dict_keys(['img_paths', 'imgs', 'betas', 'poses', 'trans', 'vertices', 'cam_pose', 'cam_intr']),\n",
       " dict_keys(['img_paths', 'betas', 'poses', 'trans', 'vertices', 'cam_pose', 'cam_intr']))"
      ]
     },
     "execution_count": 12,
     "metadata": {},
     "output_type": "execute_result"
    }
   ],
   "source": [
    "val_data[0][1000].keys(),val_data[1][1000].keys()"
   ]
  },
  {
   "cell_type": "code",
   "execution_count": 16,
   "metadata": {},
   "outputs": [],
   "source": [
    "def test(*args):\n",
    "    for arg in args:\n",
    "        print(arg)"
   ]
  },
  {
   "cell_type": "code",
   "execution_count": 21,
   "metadata": {},
   "outputs": [
    {
     "name": "stdout",
     "output_type": "stream",
     "text": [
      "(1, 2, 3, 4)\n"
     ]
    }
   ],
   "source": [
    "test(*[1,2,3,4])#\n"
   ]
  }
 ],
 "metadata": {
  "interpreter": {
   "hash": "8c500d23ff985f6e0d55aaada0dd5a9d76ecd6f50f4f40e50dce0e2bcc3272a9"
  },
  "kernelspec": {
   "display_name": "Python 3.9.6 64-bit ('ba-envjup': conda)",
   "name": "python3"
  },
  "language_info": {
   "codemirror_mode": {
    "name": "ipython",
    "version": 3
   },
   "file_extension": ".py",
   "mimetype": "text/x-python",
   "name": "python",
   "nbconvert_exporter": "python",
   "pygments_lexer": "ipython3",
   "version": "3.9.6"
  }
 },
 "nbformat": 4,
 "nbformat_minor": 4
}
