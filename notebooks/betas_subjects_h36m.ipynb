{
 "cells": [
  {
   "cell_type": "code",
   "execution_count": null,
   "metadata": {},
   "outputs": [],
   "source": [
    "import json\n",
    "import os.path as osp\n",
    "import numpy as np"
   ]
  },
  {
   "cell_type": "code",
   "execution_count": null,
   "metadata": {},
   "outputs": [],
   "source": [
    "def get_smpl_params(subject_list, annot_dir):\n",
    "    for subject in subject_list:\n",
    "        with open(osp.join(annot_dir, 'Human36M_subject' + str(subject) + '_smpl_param.json'), 'r') as f:\n",
    "            smpl_params[str(subject)] = json.load(f)\n",
    "    return smpl_params"
   ]
  },
  {
   "cell_type": "code",
   "execution_count": null,
   "metadata": {},
   "outputs": [],
   "source": [
    "def get_shape_array(subject, smpl_params):\n",
    "    shape_subject = []\n",
    "    for act in sorted(smpl_params[subject].keys()):\n",
    "        for subact in sorted(smpl_params[subject][act].keys()):\n",
    "            for frame in sorted(smpl_params[subject][act][subact].keys()):\n",
    "                shape_subject.append(np.array(smpl_params[subject][act][subact][frame]['shape']))        \n",
    "    return np.array(shape_subject)"
   ]
  },
  {
   "cell_type": "code",
   "execution_count": null,
   "metadata": {},
   "outputs": [],
   "source": [
    "def plot_shapes(smpl_params, x, y):\n",
    "    plt.figure(figsize = (16,9))\n",
    "    plt.title('shapes of all subjects')\n",
    "    x_min = y_min = np.Inf\n",
    "    x_max = y_max = - np.Inf\n",
    "    for subject in smpl_params.keys():\n",
    "        shape_subject = get_shape_array(subject, smpl_params).T[[x,y]].T\n",
    "        shape_mean = shape_subject.mean(axis=0)\n",
    "        shape_std = shape_subject.std(axis=0)\n",
    "        x_min, y_min = np.min([np.array([x_min, y_min]), shape_mean - 2*shape_std], axis=0)\n",
    "        x_max, y_max = np.max([np.array([x_max, y_max]), shape_mean + 2*shape_std], axis=0)\n",
    "        plt.plot(shape_subject[:,0], shape_subject[:,1], ',', label=f'subject:{subject}') \n",
    "    plt.xlim([int(x_min), int(x_max+1)])\n",
    "    plt.ylim([int(y_min), int(y_max+1)])\n",
    "    plt.legend()\n",
    "    plt.show()"
   ]
  },
  {
   "cell_type": "code",
   "execution_count": null,
   "metadata": {},
   "outputs": [],
   "source": [
    "subject_list = [1, 5, 6, 7, 8, 9, 11]\n",
    "smpl_params = get_smpl_params(subject_list=subject_list, annot_dir='../H36M/annotations')\n",
    "plot_shapes(smpl_params, 0, 1)\n",
    "plot_shapes(smpl_params, 2, 3)\n",
    "plot_shapes(smpl_params, 4, 5)"
   ]
  },
  {
   "cell_type": "code",
   "execution_count": 9,
   "metadata": {},
   "outputs": [],
   "source": [
    "import os.path as osp\n",
    "import numpy as np"
   ]
  },
  {
   "cell_type": "code",
   "execution_count": 7,
   "metadata": {},
   "outputs": [
    {
     "data": {
      "text/plain": [
       "('/', 'osp.split')"
      ]
     },
     "execution_count": 7,
     "metadata": {},
     "output_type": "execute_result"
    }
   ],
   "source": [
    "osp.split('/osp.split')"
   ]
  },
  {
   "cell_type": "code",
   "execution_count": 18,
   "metadata": {},
   "outputs": [],
   "source": [
    "zeros = np.zeros([224,224])"
   ]
  },
  {
   "cell_type": "code",
   "execution_count": 19,
   "metadata": {},
   "outputs": [
    {
     "data": {
      "text/plain": [
       "(224, 224)"
      ]
     },
     "execution_count": 19,
     "metadata": {},
     "output_type": "execute_result"
    }
   ],
   "source": [
    "zeros.shape"
   ]
  },
  {
   "cell_type": "code",
   "execution_count": 20,
   "metadata": {},
   "outputs": [],
   "source": [
    "zeros[100:150, 100:150] = 1"
   ]
  },
  {
   "cell_type": "code",
   "execution_count": 23,
   "metadata": {},
   "outputs": [
    {
     "data": {
      "text/plain": [
       "(224, 224)"
      ]
     },
     "execution_count": 23,
     "metadata": {},
     "output_type": "execute_result"
    }
   ],
   "source": [
    "zeros"
   ]
  },
  {
   "cell_type": "code",
   "execution_count": null,
   "metadata": {},
   "outputs": [],
   "source": []
  }
 ],
 "metadata": {
  "kernelspec": {
   "display_name": "ba-envjup",
   "language": "python",
   "name": "ba-envjup"
  },
  "language_info": {
   "codemirror_mode": {
    "name": "ipython",
    "version": 3
   },
   "file_extension": ".py",
   "mimetype": "text/x-python",
   "name": "python",
   "nbconvert_exporter": "python",
   "pygments_lexer": "ipython3",
   "version": "3.9.6"
  }
 },
 "nbformat": 4,
 "nbformat_minor": 4
}
