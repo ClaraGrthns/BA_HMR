{
 "cells": [
  {
   "cell_type": "code",
   "execution_count": 1,
   "metadata": {},
   "outputs": [],
   "source": [
    "from modules.smpl_model._smpl import SMPL as SMPL_metro\n",
    "from modules.utils.image_utils import plot_tensor, to_tensor\n",
    "from modules.smpl_model.config_smpl import *\n",
    "from modules.smpl_model.smpl_pose2mesh import SMPL\n",
    "from tqdm import tqdm"
   ]
  },
  {
   "cell_type": "code",
   "execution_count": 2,
   "metadata": {},
   "outputs": [],
   "source": [
    "import torch\n",
    "import os.path as osp\n",
    "import json\n",
    "import copy\n",
    "import numpy as np\n",
    "import os\n",
    "import pickle as pkl\n",
    "from PIL import Image\n",
    "import torch"
   ]
  },
  {
   "cell_type": "markdown",
   "metadata": {},
   "source": [
    "## SMPL Model Pose2Mesh"
   ]
  },
  {
   "cell_type": "code",
   "execution_count": 3,
   "metadata": {},
   "outputs": [
    {
     "name": "stderr",
     "output_type": "stream",
     "text": [
      "/Users/clara/Desktop/MeineProjekte/HMR_3DWP/modules/smpl_model/smplpytorch/smplpytorch/pytorch/smpl_layer.py:40: UserWarning: The given NumPy array is not writeable, and PyTorch does not support non-writeable tensors. This means you can write to the underlying (supposedly non-writeable) NumPy array using the tensor. You may want to copy the array to protect its data or make it writeable before converting it to a tensor. This type of warning will be suppressed for the rest of this program. (Triggered internally at  /Users/distiller/project/conda/conda-bld/pytorch_1623459065530/work/torch/csrc/utils/tensor_numpy.cpp:180.)\n",
      "  torch.Tensor(smpl_data['betas'].r).unsqueeze(0))\n"
     ]
    }
   ],
   "source": [
    "smpl = SMPL()\n",
    "smpl_metro = SMPL_metro()\n",
    "\n",
    "# Adapt Regressor for 10 PCs\n",
    "smpl.layer['neutral'].th_shapedirs= smpl.layer['neutral'].th_shapedirs[:,:,:10]\n",
    "smpl.layer['neutral'].th_betas= smpl.layer['neutral'].th_betas[:,:10]"
   ]
  },
  {
   "cell_type": "markdown",
   "metadata": {},
   "source": [
    "## Prepocess Data Human 3.6M"
   ]
  },
  {
   "cell_type": "code",
   "execution_count": 4,
   "metadata": {},
   "outputs": [],
   "source": [
    "from modules.utils.data_utils_h36m import get_cam_pose_intr, get_fitting_error\n",
    "from modules.utils.geometry import get_smpl_coord"
   ]
  },
  {
   "cell_type": "markdown",
   "metadata": {},
   "source": [
    "### Create datalist of all images with smpl params"
   ]
  },
  {
   "cell_type": "code",
   "execution_count": 71,
   "metadata": {},
   "outputs": [],
   "source": [
    "#subject_list = [1, 5, 6, 7, 8, 9, 11]\n",
    "#subject_list = [1, 5, 6, 7, 8]\n",
    "#subject_list = [1]\n",
    "#subject_list = [5]\n",
    "#subject_list = [6]\n",
    "#subject_list = [7]\n",
    "subject_list = [8]\n",
    "#subject_list = [9, 11]\n",
    "data_path = '../H36M'\n",
    "img_dir = osp.join(data_path, 'images')\n",
    "annot_dir = osp.join(data_path, 'annotations')\n",
    "fitting_thr = 25  # milimeter --> Threshhold joints from smpl mesh to h36m gt"
   ]
  },
  {
   "cell_type": "code",
   "execution_count": 72,
   "metadata": {},
   "outputs": [],
   "source": [
    "images = []\n",
    "cameras = {}\n",
    "smpl_params = {}\n",
    "joints = {}\n",
    "bboxes = {}\n",
    "#length_sub = {sub: 0 for sub in subject_list}\n",
    "for subject in subject_list:\n",
    "    ### Load image annotations\n",
    "    with open(osp.join(annot_dir, 'Human36M_subject' + str(subject) + '_data.json'), 'r') as f:\n",
    "        annotations = json.load(f)\n",
    "    images.extend(annotations['images'])\n",
    "    ### Load cameras\n",
    "    with open(osp.join(annot_dir, 'Human36M_subject' + str(subject) + '_camera.json'), 'r') as f:\n",
    "        cams = json.load(f)\n",
    "    cameras[str(subject)] = {cam_id: get_cam_pose_intr(cam) for cam_id, cam in cams.items()}\n",
    "    ### Load fitted smpl parameter\n",
    "    with open(osp.join(annot_dir, 'Human36M_subject' + str(subject) + '_smpl_param.json'), 'r') as f:\n",
    "        smpl_params[str(subject)] = json.load(f)\n",
    "    ### Load 3d Joint ground truth (17x3)\n",
    "    with open(osp.join(annot_dir, 'Human36M_subject' + str(subject) + '_joint_3d.json'), 'r') as f:\n",
    "        joints[str(subject)] = json.load(f)   \n",
    "\n",
    "with open(osp.join(annot_dir, 'h36m_bboxes.json'), 'r') as f:\n",
    "        bboxes = json.load(f)"
   ]
  },
  {
   "cell_type": "code",
   "execution_count": 73,
   "metadata": {},
   "outputs": [],
   "source": [
    "id_to_imgs = {} # Maps img-id to img file\n",
    "id_to_imgs = {img['id']: img for img in images}\n",
    "\n",
    "datalist = []\n",
    "num_smpl_param = 0"
   ]
  },
  {
   "cell_type": "code",
   "execution_count": 74,
   "metadata": {},
   "outputs": [
    {
     "name": "stderr",
     "output_type": "stream",
     "text": [
      "100%|██████████| 258712/258712 [00:10<00:00, 23525.95it/s]\n"
     ]
    }
   ],
   "source": [
    "for img_id, img in tqdm(id_to_imgs.items(), total=len(id_to_imgs.items())):\n",
    "    img_name =  img['file_name']  \n",
    "    subject = img['subject']\n",
    "    action = img['action_idx']\n",
    "    subaction = img['subaction_idx']\n",
    "    frame = img['frame_idx']\n",
    "    \n",
    "    ### check if smpl parameters exist\n",
    "    try:\n",
    "        smpl_param = smpl_params[str(subject)][str(action)][str(subaction)][str(frame)]\n",
    "    except KeyError:\n",
    "        continue\n",
    "    ### check threshhold of h36m gt and smpl-mesh h36m joints\n",
    "    joint3d_smpl = np.array(smpl_param['fitted_3d_pose'], np.float32)\n",
    "    joint3d_h36m_gt = np.array(joints[str(subject)][str(action)][str(subaction)][str(frame)],\n",
    "                        dtype=np.float32)\n",
    "    if get_fitting_error(joint3d_h36m_gt, joint3d_smpl) > fitting_thr: \n",
    "        continue\n",
    "        \n",
    "    cam_id = img['cam_idx']\n",
    "    #if not (action == 4 and (cam_id == 1 or cam_id == 2) and subaction ==1):\n",
    "     #   continue\n",
    "    cam_param = cameras[str(subject)][str(cam_id)]\n",
    "    cam_pose, cam_intr = torch.FloatTensor(cam_param['cam_pose']), torch.FloatTensor(cam_param['cam_intr'])\n",
    "    \n",
    "    beta = torch.FloatTensor(smpl_param['shape'])\n",
    "    pose = torch.FloatTensor(smpl_param['pose'])\n",
    "    trans = torch.FloatTensor(smpl_param['trans']) \n",
    "    ### World coordinate --> Camera coordinate\n",
    "    \n",
    "    bbox = bboxes[str(img_id)]\n",
    "    datalist.append({\n",
    "        'img_name': img_name,\n",
    "        'img_id': img_id,\n",
    "        'zarr_id': num_smpl_param,\n",
    "        'betas': beta,\n",
    "        'poses': pose,\n",
    "        'trans': trans,\n",
    "        'bbox': bbox,\n",
    "        'cam_id': cam_id,\n",
    "        'subject': subject,\n",
    "        'cam_pose': cam_pose,\n",
    "        'cam_intr': cam_intr,\n",
    "        })\n",
    "    \n",
    "    num_smpl_param += 1\n",
    "datalist = sorted(datalist, key=lambda x: x['img_id'])"
   ]
  },
  {
   "cell_type": "code",
   "execution_count": 75,
   "metadata": {},
   "outputs": [
    {
     "data": {
      "text/plain": [
       "51508"
      ]
     },
     "execution_count": 75,
     "metadata": {},
     "output_type": "execute_result"
    }
   ],
   "source": [
    "len(datalist)"
   ]
  },
  {
   "cell_type": "markdown",
   "metadata": {},
   "source": [
    "## Opt: Store as pickle"
   ]
  },
  {
   "cell_type": "code",
   "execution_count": 50,
   "metadata": {},
   "outputs": [],
   "source": [
    "out_dir = '../H36M/data_pickle'\n",
    "sub_str = f'{min(subject_list)}to{max(subject_list)}'"
   ]
  },
  {
   "cell_type": "code",
   "execution_count": 51,
   "metadata": {},
   "outputs": [
    {
     "data": {
      "text/plain": [
       "'../H36M/data_pickle/datalist_h36m_thr25_6to6subj.pickle'"
      ]
     },
     "execution_count": 51,
     "metadata": {},
     "output_type": "execute_result"
    }
   ],
   "source": [
    "data_path = osp.join(out_dir, f'datalist_h36m_thr{fitting_thr}_{sub_str}subj.pickle')\n",
    "data_path"
   ]
  },
  {
   "cell_type": "code",
   "execution_count": 52,
   "metadata": {},
   "outputs": [],
   "source": [
    "with open(data_path, 'wb') as fp:\n",
    "    pkl.dump(datalist, fp)"
   ]
  },
  {
   "cell_type": "code",
   "execution_count": 10,
   "metadata": {},
   "outputs": [
    {
     "data": {
      "text/plain": [
       "'../H36M/datalist_h36m_thr25_1to1subj_subact1_cam1.pickle'"
      ]
     },
     "execution_count": 10,
     "metadata": {},
     "output_type": "execute_result"
    }
   ],
   "source": [
    "out_dir = '../H36M'\n",
    "data_pickle = osp.join(out_dir, f'datalist_h36m_thr{fitting_thr}_{sub_str}subj.pickle')\n",
    "data_pickle"
   ]
  },
  {
   "cell_type": "code",
   "execution_count": 6,
   "metadata": {},
   "outputs": [],
   "source": [
    "import torch\n",
    "import os.path as osp\n",
    "from PIL import Image\n",
    "import numpy as np\n",
    "import copy\n",
    "from torchvision import transforms\n",
    "import random\n",
    "\n",
    "from modules.utils.image_utils import to_tensor, transform, transform_visualize, crop_box, lcc, SquarePad_tensor\n",
    "from modules.smpl_model.smpl_pose2mesh import SMPL\n",
    "from modules.utils.geometry import get_smpl_coord"
   ]
  },
  {
   "cell_type": "markdown",
   "metadata": {},
   "source": [
    "## Dataset H36M"
   ]
  },
  {
   "cell_type": "code",
   "execution_count": 7,
   "metadata": {},
   "outputs": [],
   "source": [
    "from modules.datasets.dataset_3DPW import get_data as get_data_3dpw\n",
    "from modules.datasets.dataset_H36M import get_data as get_data_h36m\n",
    "from modules.smpl_model.smpl_pose2mesh import SMPL"
   ]
  },
  {
   "cell_type": "code",
   "execution_count": 12,
   "metadata": {},
   "outputs": [],
   "source": [
    "bground_paths = [osp.join('../H36M', 'backgrounds', bg_path) for bg_path in os.listdir('../H36M/backgrounds/')if bg_path.endswith('jpg')]\n",
    "backgrounds = [np.array(Image.open(img_path)) for img_path in bground_paths]"
   ]
  },
  {
   "cell_type": "code",
   "execution_count": 11,
   "metadata": {},
   "outputs": [],
   "source": [
    "datah36m = get_data_h36m(data_path='../H36M',img_size=224,load_datalist=data_pickle,load_from_zarr=None,mask=True,smpl=smpl.layer['neutral'], split='train', backgrounds = backgrounds)"
   ]
  },
  {
   "cell_type": "code",
   "execution_count": 98,
   "metadata": {},
   "outputs": [
    {
     "data": {
      "text/plain": [
       "dict_keys(['img_name', 'img_id', 'zarr_id', 'betas', 'poses', 'trans', 'bbox', 'cam_id', 'subject', 'cam_pose', 'cam_intr', 'vertices', 'img_path', 'img'])"
      ]
     },
     "execution_count": 98,
     "metadata": {},
     "output_type": "execute_result"
    }
   ],
   "source": [
    "dat = random.choice(datah36m)\n",
    "dat.keys()"
   ]
  },
  {
   "cell_type": "code",
   "execution_count": 100,
   "metadata": {},
   "outputs": [],
   "source": [
    "img = dat['img']\n",
    "img_path=dat['img_path']\n",
    "vertices = dat['vertices']\n",
    "cam_pose =dat['cam_pose']\n",
    "cam_intr = dat['cam_intr']\n",
    "trans = dat['trans']"
   ]
  },
  {
   "cell_type": "code",
   "execution_count": 101,
   "metadata": {},
   "outputs": [
    {
     "name": "stderr",
     "output_type": "stream",
     "text": [
      "Clipping input data to the valid range for imshow with RGB data ([0..1] for floats or [0..255] for integers).\n"
     ]
    },
    {
     "data": {
      "image/png": "[encoded data removed]",
      "text/plain": [
       "<Figure size 900x1600 with 1 Axes>"
      ]
     },
     "metadata": {},
     "output_type": "display_data"
    }
   ],
   "source": [
    "plot_tensor(img)"
   ]
  },
  {
   "cell_type": "markdown",
   "metadata": {},
   "source": [
    "## Full Dataset"
   ]
  },
  {
   "cell_type": "code",
   "execution_count": 1,
   "metadata": {},
   "outputs": [],
   "source": [
    "from modules.datasets.FullDataset import get_full_train_val_data"
   ]
  },
  {
   "cell_type": "code",
   "execution_count": 27,
   "metadata": {},
   "outputs": [],
   "source": [
    "train_data_3dpw = get_data_3dpw(data_path='../3DPW', \n",
    "                                    split='train',\n",
    "                                    num_required_keypoints=8,\n",
    "                                    store_sequences=True,\n",
    "                                    store_images=True,\n",
    "                                    load_from_zarr=None,\n",
    "                                    img_size=224,\n",
    "                                    load_ids_imgpaths_seq='data/ids_imgpaths_seq/ids_paths_seq_train_min8_kps.pickle',\n",
    "                                    smpl=smpl.layer['neutral'],)"
   ]
  },
  {
   "cell_type": "code",
   "execution_count": 13,
   "metadata": {},
   "outputs": [],
   "source": [
    "train_data, val_data = get_full_train_val_data(\n",
    "        data_path_3dpw='../3DPW',\n",
    "        num_required_keypoints = 8,\n",
    "        store_sequences=True,\n",
    "        store_images=True,\n",
    "        load_from_zarr_3dpw_trn=None,\n",
    "        load_from_zarr_3dpw_val=None,\n",
    "        img_size=224,\n",
    "        load_ids_imgpaths_seq_trn='data/ids_imgpaths_seq/ids_paths_seq_train_min8_kps.pickle',\n",
    "        load_ids_imgpaths_seq_val='data/ids_imgpaths_seq/ids_paths_seq_validation_min8_kps.pickle',\n",
    "        data_path_h36m='../H36M',\n",
    "        load_from_zarr_h36m_trn=None,\n",
    "        load_datalist_trn=data_pickle,\n",
    "        backgrounds=backgrounds,\n",
    "        mask=True,\n",
    "    )"
   ]
  },
  {
   "cell_type": "code",
   "execution_count": 14,
   "metadata": {},
   "outputs": [
    {
     "data": {
      "text/plain": [
       "(23194, 10402)"
      ]
     },
     "execution_count": 14,
     "metadata": {},
     "output_type": "execute_result"
    }
   ],
   "source": [
    "len(train_data), len(val_data)"
   ]
  },
  {
   "cell_type": "markdown",
   "metadata": {},
   "source": [
    "## Render Mesh"
   ]
  },
  {
   "cell_type": "code",
   "execution_count": 11,
   "metadata": {},
   "outputs": [],
   "source": [
    "from modules.utils.image_utils import visualize_mesh"
   ]
  },
  {
   "cell_type": "markdown",
   "metadata": {},
   "source": [
    "## Render Image for each camera"
   ]
  },
  {
   "cell_type": "code",
   "execution_count": 12,
   "metadata": {},
   "outputs": [],
   "source": [
    "cam1 = copy.deepcopy(datalist[0])\n",
    "\n",
    "cam_pose = cam1['cam_pose']\n",
    "cam_intr = cam1['cam_intr']\n",
    "beta = cam1['betas']\n",
    "pose= cam1['poses']\n",
    "trans = cam1['trans']\n",
    "verts_cam, _= get_smpl_coord(pose=pose, beta=beta, trans=trans, root_idx=0, cam_pose=cam_pose, smpl=smpl.layer['neutral'])\n",
    "#verts_cam += trans\n",
    "img_path = osp.join('../H36M/images/', cam1['img_name'])"
   ]
  },
  {
   "cell_type": "code",
   "execution_count": 13,
   "metadata": {},
   "outputs": [
    {
     "data": {
      "text/plain": [
       "torch.Size([1, 6890, 3])"
      ]
     },
     "execution_count": 13,
     "metadata": {},
     "output_type": "execute_result"
    }
   ],
   "source": [
    "verts_cam.shape"
   ]
  },
  {
   "cell_type": "code",
   "execution_count": 110,
   "metadata": {},
   "outputs": [],
   "source": [
    "cam2 = copy.deepcopy(datalist[300])\n",
    "\n",
    "cam_pose = cam2['cam_pose']\n",
    "cam_intr = cam2['cam_intr']\n",
    "beta = cam2['betas']\n",
    "pose= cam2['poses']\n",
    "trans = cam2['trans']\n",
    "verts_cam, _= get_smpl_coord(pose=pose, beta=beta,trans=trans, root_idx=0, cam_pose=cam_pose, smpl=smpl.layer['neutral'])\n",
    "#verts_cam += trans\n",
    "img_path = osp.join('../H36M/images/', cam2['img_name'])"
   ]
  },
  {
   "cell_type": "code",
   "execution_count": 112,
   "metadata": {},
   "outputs": [],
   "source": [
    "cam3 = copy.deepcopy(datalist[100])\n",
    "\n",
    "cam_pose = cam3['cam_pose']\n",
    "cam_intr = cam3['cam_intr']\n",
    "beta = cam3['betas']\n",
    "pose= cam3['poses']\n",
    "trans = cam3['trans']\n",
    "verts_cam, _= get_smpl_coord(pose=pose, beta=beta,trans=trans, root_idx=0, cam_pose=cam_pose, smpl=smpl.layer['neutral'])\n",
    "#verts_cam += trans\n",
    "img_path = osp.join('../H36M/images/', cam3['img_name'])"
   ]
  },
  {
   "cell_type": "code",
   "execution_count": 120,
   "metadata": {},
   "outputs": [],
   "source": [
    "cam4 = copy.deepcopy(datalist[400])\n",
    "cam_pose = cam4['cam_pose']\n",
    "cam_intr = cam4['cam_intr']\n",
    "beta = cam4['betas']\n",
    "pose= cam4['poses']\n",
    "trans = cam4['trans']\n",
    "verts_cam, _= get_smpl_coord(pose=pose, beta=beta,trans=trans, root_idx=0, cam_pose=cam_pose, smpl=smpl.layer['neutral'])\n",
    "#verts_cam += trans\n",
    "img_path = osp.join('../H36M/images/', cam4['img_name'])"
   ]
  },
  {
   "cell_type": "code",
   "execution_count": 14,
   "metadata": {},
   "outputs": [
    {
     "ename": "FileNotFoundError",
     "evalue": "[Errno 2] No such file or directory: '../H36M/images/s_01_act_02_subact_01_ca_01/s_01_act_02_subact_01_ca_01_000001.jpg'",
     "output_type": "error",
     "traceback": [
      "\u001b[0;31m---------------------------------------------------------------------------\u001b[0m",
      "\u001b[0;31mFileNotFoundError\u001b[0m                         Traceback (most recent call last)",
      "\u001b[0;32m<ipython-input-14-638e5be879f6>\u001b[0m in \u001b[0;36m<module>\u001b[0;34m\u001b[0m\n\u001b[0;32m----> 1\u001b[0;31m \u001b[0morig_img\u001b[0m \u001b[0;34m=\u001b[0m \u001b[0mto_tensor\u001b[0m\u001b[0;34m(\u001b[0m\u001b[0mImage\u001b[0m\u001b[0;34m.\u001b[0m\u001b[0mopen\u001b[0m\u001b[0;34m(\u001b[0m\u001b[0mimg_path\u001b[0m\u001b[0;34m)\u001b[0m\u001b[0;34m)\u001b[0m\u001b[0;34m\u001b[0m\u001b[0;34m\u001b[0m\u001b[0m\n\u001b[0m\u001b[1;32m      2\u001b[0m \u001b[0mrend_img\u001b[0m \u001b[0;34m=\u001b[0m \u001b[0mvisualize_mesh\u001b[0m\u001b[0;34m(\u001b[0m\u001b[0morig_img\u001b[0m\u001b[0;34m,\u001b[0m \u001b[0msmpl\u001b[0m\u001b[0;34m=\u001b[0m\u001b[0msmpl_metro\u001b[0m\u001b[0;34m,\u001b[0m \u001b[0mcam_intr\u001b[0m\u001b[0;34m=\u001b[0m\u001b[0mcam_intr\u001b[0m\u001b[0;34m,\u001b[0m \u001b[0mvertices\u001b[0m\u001b[0;34m=\u001b[0m\u001b[0mverts_cam\u001b[0m\u001b[0;34m)\u001b[0m\u001b[0;34m\u001b[0m\u001b[0;34m\u001b[0m\u001b[0m\n\u001b[1;32m      3\u001b[0m \u001b[0mplot_tensor\u001b[0m\u001b[0;34m(\u001b[0m\u001b[0mrend_img\u001b[0m\u001b[0;34m)\u001b[0m\u001b[0;34m\u001b[0m\u001b[0;34m\u001b[0m\u001b[0m\n",
      "\u001b[0;32m/usr/local/anaconda3/envs/ba-envjup/lib/python3.9/site-packages/PIL/Image.py\u001b[0m in \u001b[0;36mopen\u001b[0;34m(fp, mode, formats)\u001b[0m\n\u001b[1;32m   2966\u001b[0m \u001b[0;34m\u001b[0m\u001b[0m\n\u001b[1;32m   2967\u001b[0m     \u001b[0;32mif\u001b[0m \u001b[0mfilename\u001b[0m\u001b[0;34m:\u001b[0m\u001b[0;34m\u001b[0m\u001b[0;34m\u001b[0m\u001b[0m\n\u001b[0;32m-> 2968\u001b[0;31m         \u001b[0mfp\u001b[0m \u001b[0;34m=\u001b[0m \u001b[0mbuiltins\u001b[0m\u001b[0;34m.\u001b[0m\u001b[0mopen\u001b[0m\u001b[0;34m(\u001b[0m\u001b[0mfilename\u001b[0m\u001b[0;34m,\u001b[0m \u001b[0;34m\"rb\"\u001b[0m\u001b[0;34m)\u001b[0m\u001b[0;34m\u001b[0m\u001b[0;34m\u001b[0m\u001b[0m\n\u001b[0m\u001b[1;32m   2969\u001b[0m         \u001b[0mexclusive_fp\u001b[0m \u001b[0;34m=\u001b[0m \u001b[0;32mTrue\u001b[0m\u001b[0;34m\u001b[0m\u001b[0;34m\u001b[0m\u001b[0m\n\u001b[1;32m   2970\u001b[0m \u001b[0;34m\u001b[0m\u001b[0m\n",
      "\u001b[0;31mFileNotFoundError\u001b[0m: [Errno 2] No such file or directory: '../H36M/images/s_01_act_02_subact_01_ca_01/s_01_act_02_subact_01_ca_01_000001.jpg'"
     ]
    }
   ],
   "source": [
    "orig_img = to_tensor(Image.open(img_path))\n",
    "rend_img = visualize_mesh(orig_img, smpl=smpl_metro, cam_intr=cam_intr, vertices=verts_cam)\n",
    "plot_tensor(rend_img)"
   ]
  },
  {
   "cell_type": "markdown",
   "metadata": {},
   "source": [
    "### Chunks "
   ]
  },
  {
   "cell_type": "code",
   "execution_count": 75,
   "metadata": {},
   "outputs": [],
   "source": [
    "from modules.utils.data_utils_3dpw import rand_partition\n",
    "from modules.utils.data_utils_h36m import get_data_list_h36m\n",
    "import collections"
   ]
  },
  {
   "cell_type": "code",
   "execution_count": 81,
   "metadata": {},
   "outputs": [],
   "source": [
    "def get_data_chunk_list_h36m(annot_dir:str,\n",
    "                    img_dir:str,\n",
    "                    subject_list:list,\n",
    "                    fitting_thr:int,\n",
    "                    len_chunks=8,\n",
    "                    load_seq_datalist:str=None,\n",
    "                    load_datalist:str=None,\n",
    "                    store_as_pkl:bool=False,\n",
    "                    out_dir:str=None,\n",
    "                    ):\n",
    "        if load_seq_datalist is not None:\n",
    "            with open(load_seq_datalist , \"rb\") as fp:\n",
    "                seq_datalist = pkl.load(fp)\n",
    "        else:\n",
    "            datalist = get_data_list_h36m(load_from_pkl=load_datalist,\n",
    "                                            annot_dir=annot_dir,\n",
    "                                            subject_list=subject_list,\n",
    "                                            fitting_thr=fitting_thr,\n",
    "                                            store_as_pkl=False,\n",
    "                                            )\n",
    "            seq_name_to_data = collections.defaultdict(list)\n",
    "            for data in datalist:\n",
    "                img_name = data['img_name']\n",
    "                seq_name = img_name.split('/')[0]\n",
    "                seq_name_to_data[seq_name].append(data)\n",
    "            seq_datalist = list(seq_name_to_data.values())\n",
    "            if store_as_pkl:\n",
    "                sub_str = f'{min(subject_list)}to{max(subject_list)}'\n",
    "                with open(osp.join(out_dir, f'seq_datalist_h36m_thr{fitting_thr}_{sub_str}subj.pickle'), 'wb') as fp:\n",
    "                    pkl.dump(seq_datalist, fp)\n",
    "        chunks = [chunk for seq in seq_datalist for chunk in rand_partition(seq, len(seq)//len_chunks, len_chunks)]\n",
    "        return chunks, seq_datalist\n",
    "    "
   ]
  },
  {
   "cell_type": "code",
   "execution_count": 87,
   "metadata": {},
   "outputs": [],
   "source": [
    "chunks,seq_datalist= get_data_chunk_list_h36m(annot_dir,\n",
    "                    img_dir,\n",
    "                    subject_list=[1],\n",
    "                    fitting_thr=25,\n",
    "                    len_chunks=8,\n",
    "                    load_seq_datalist=None,\n",
    "                    load_datalist='/Users/clara/Desktop/MeineProjekte/H36M/data_pickle/datalist_h36m_thr25_1to1subj.pickle',\n",
    "                    store_as_pkl=True,\n",
    "                    out_dir=out_dir,\n",
    "                    )"
   ]
  },
  {
   "cell_type": "code",
   "execution_count": 88,
   "metadata": {},
   "outputs": [],
   "source": [
    "chunks,seq_datalist= get_data_chunk_list_h36m(annot_dir,\n",
    "                    img_dir,\n",
    "                    subject_list=[1, 5, 6, 7, 8],\n",
    "                    fitting_thr=25,\n",
    "                    len_chunks=8,\n",
    "                    load_seq_datalist=None,\n",
    "                    load_datalist='/Users/clara/Desktop/MeineProjekte/H36M/data_pickle/datalist_h36m_thr25_1to8subj.pickle',\n",
    "                    store_as_pkl=True,\n",
    "                    out_dir=out_dir,\n",
    "                    )"
   ]
  },
  {
   "cell_type": "code",
   "execution_count": 89,
   "metadata": {},
   "outputs": [],
   "source": [
    "chunks,seq_datalist= get_data_chunk_list_h36m(annot_dir,\n",
    "                    img_dir,\n",
    "                    subject_list=[9, 11],\n",
    "                    fitting_thr=25,\n",
    "                    len_chunks=8,\n",
    "                    load_seq_datalist=None,\n",
    "                    load_datalist='/Users/clara/Desktop/MeineProjekte/H36M/data_pickle/datalist_h36m_thr25_9to11subj.pickle',\n",
    "                    store_as_pkl=True,\n",
    "                    out_dir=out_dir,\n",
    "                    )"
   ]
  },
  {
   "cell_type": "code",
   "execution_count": 85,
   "metadata": {},
   "outputs": [
    {
     "data": {
      "text/plain": [
       "49296"
      ]
     },
     "execution_count": 85,
     "metadata": {},
     "output_type": "execute_result"
    }
   ],
   "source": [
    "sum([len(seq) for seq in seq_datalist])"
   ]
  },
  {
   "cell_type": "code",
   "execution_count": 84,
   "metadata": {},
   "outputs": [
    {
     "data": {
      "text/plain": [
       "6100"
      ]
     },
     "execution_count": 84,
     "metadata": {},
     "output_type": "execute_result"
    }
   ],
   "source": [
    "len(chunks)"
   ]
  }
 ],
 "metadata": {
  "interpreter": {
   "hash": "8c500d23ff985f6e0d55aaada0dd5a9d76ecd6f50f4f40e50dce0e2bcc3272a9"
  },
  "kernelspec": {
   "display_name": "Python 3.9.6 64-bit ('ba-envjup': conda)",
   "name": "python3"
  },
  "language_info": {
   "codemirror_mode": {
    "name": "ipython",
    "version": 3
   },
   "file_extension": ".py",
   "mimetype": "text/x-python",
   "name": "python",
   "nbconvert_exporter": "python",
   "pygments_lexer": "ipython3",
   "version": "3.9.6"
  }
 },
 "nbformat": 4,
 "nbformat_minor": 4
}
