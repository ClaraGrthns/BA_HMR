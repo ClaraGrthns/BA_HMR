{
 "cells": [
  {
   "cell_type": "markdown",
   "metadata": {},
   "source": [
    "#### Create Zarr Array\n"
   ]
  },
  {
   "cell_type": "code",
   "execution_count": 8,
   "metadata": {},
   "outputs": [],
   "source": [
    "import os\n",
    "import os.path as osp\n",
    "import time\n",
    "import pickle as pkl\n",
    "import numpy as np\n",
    "from PIL import Image\n",
    "import torch\n",
    "import zarr\n",
    "from tqdm import tqdm\n",
    "\n",
    "\n",
    "\n",
    "from modules.utils.image_utils import to_tensor, transform, transform_visualize, crop_box, plot_tensor\n",
    "from modules.utils.data_utils import get_relevant_keypoints"
   ]
  },
  {
   "cell_type": "code",
   "execution_count": 14,
   "metadata": {},
   "outputs": [],
   "source": [
    "def save_img_zarr(root_path:str,\n",
    "                  zarr_path:str=None,\n",
    "                  split:str = 'train',\n",
    "                  num_required_keypoints: int = 0,):\n",
    "    sequence_path = osp.join(root_path, 'sequenceFiles', split)\n",
    "    seq_names = [seq_name.split('.pkl')[0] for seq_name in sorted(os.listdir(sequence_path))]\n",
    "    num_required_keypoints = 8\n",
    "    image_paths = []\n",
    "    person_ids = []\n",
    "    sequences = {}\n",
    "    for seq_name in seq_names:\n",
    "        ## loop through all sequences and filter out those where kp are missing\n",
    "        img_dir = osp.join(root_path, 'imageFiles', seq_name)\n",
    "\n",
    "        seq_file_name = os.path.join(sequence_path, f'{seq_name}.pkl')\n",
    "        with open(seq_file_name, 'rb') as f:\n",
    "            seq = pkl.load(f, encoding='latin1')\n",
    "        sequences[seq_name] = seq\n",
    "        num_people = len(seq['poses'])\n",
    "\n",
    "        for img_idx, img_name in enumerate(sorted(os.listdir(img_dir))):\n",
    "            ## for each person: save img_path \n",
    "            image_path = osp.join(img_dir,img_name)\n",
    "            for person_id in range(num_people):\n",
    "                pose2d = seq['poses2d'][person_id][img_idx]\n",
    "                relevant_poses2d = get_relevant_keypoints(pose2d)\n",
    "                if len(relevant_poses2d) >= num_required_keypoints:\n",
    "                    image_paths.append(image_path)\n",
    "                    person_ids.append(person_id)\n",
    "\n",
    "    # create imgsx3x244x244  zarr array    \n",
    "    if zarr_path is None:\n",
    "        zarr_path = osp.join(\"../../data\", \"imgs_3dpw\", f'{num_required_keypoints}_kps', split, \".zarr\")\n",
    "        \n",
    "    img_zarr = zarr.open(zarr_path, mode='w', shape=(len(image_paths), 3, 224, 224), chunks=(len(image_paths)//10, None), dtype='float32')\n",
    "\n",
    "    for index, img_path in tqdm(enumerate(image_paths), total=len(image_paths)):\n",
    "        ## for each img: save tranformed img in zarr array\n",
    "        _, img_name = os.path.split(img_path)\n",
    "        img = np.array(Image.open(img_path))\n",
    "        img_tensor = to_tensor(img)\n",
    "\n",
    "        seq_name = img_path.split('/')[-2]\n",
    "        seq = sequences[seq_name]     \n",
    "        index_seq = int((img_name.split('.')[0]).split('_')[1])\n",
    "        person_id = person_ids[index]\n",
    "        poses2d = torch.tensor(seq['poses2d'][person_id][index_seq], dtype=torch.float32)\n",
    "\n",
    "        img_tensor, _ = crop_box(img_tensor=img_tensor, pose2d=poses2d)\n",
    "\n",
    "        img_tensor = transform(img_tensor)\n",
    "        img_zarr[index] = img_tensor\n",
    "\n",
    "\n"
   ]
  },
  {
   "cell_type": "code",
   "execution_count": null,
   "metadata": {},
   "outputs": [
    {
     "name": "stderr",
     "output_type": "stream",
     "text": [
      "  0%|          | 13/22727 [00:40<18:49:43,  2.98s/it]"
     ]
    }
   ],
   "source": [
    "save_img_zarr(root_path='../3DPW', zarr_path='data/test.zarr', num_required_keypoints=8,split='train')"
   ]
  },
  {
   "cell_type": "code",
   "execution_count": 27,
   "metadata": {},
   "outputs": [
    {
     "name": "stderr",
     "output_type": "stream",
     "text": [
      "Clipping input data to the valid range for imshow with RGB data ([0..1] for floats or [0..255] for integers).\n"
     ]
    },
    {
     "data": {
      "image/png": "[encoded data removed]",
      "text/plain": [
       "<Figure size 900x1600 with 1 Axes>"
      ]
     },
     "metadata": {},
     "output_type": "display_data"
    }
   ],
   "source": [
    "plot_tensor(torch.from_numpy(img_zarr[0]))"
   ]
  },
  {
   "cell_type": "code",
   "execution_count": 21,
   "metadata": {},
   "outputs": [],
   "source": [
    "test_zarr = zarr.load('data/imgs_3dpw_test.zarr')[:300].copy()"
   ]
  },
  {
   "cell_type": "code",
   "execution_count": 23,
   "metadata": {},
   "outputs": [],
   "source": [
    "zarr.save('data/imgs_3dpw_test.zarr', test_zarr)"
   ]
  },
  {
   "cell_type": "code",
   "execution_count": null,
   "metadata": {},
   "outputs": [],
   "source": []
  }
 ],
 "metadata": {
  "kernelspec": {
   "display_name": "ba-envjup",
   "language": "python",
   "name": "ba-envjup"
  },
  "language_info": {
   "codemirror_mode": {
    "name": "ipython",
    "version": 3
   },
   "file_extension": ".py",
   "mimetype": "text/x-python",
   "name": "python",
   "nbconvert_exporter": "python",
   "pygments_lexer": "ipython3",
   "version": "3.9.5"
  }
 },
 "nbformat": 4,
 "nbformat_minor": 4
}
